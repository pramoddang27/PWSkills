{
 "cells": [
  {
   "cell_type": "markdown",
   "id": "36f2f57c",
   "metadata": {},
   "source": [
    "## MY-SQL Assignment Questions"
   ]
  },
  {
   "cell_type": "markdown",
   "id": "b32518af",
   "metadata": {},
   "source": [
    "### Q1. What is a database? Differentiate between SQL and NoSQL databases."
   ]
  },
  {
   "cell_type": "markdown",
   "id": "86ca22fa",
   "metadata": {},
   "source": [
    "#### A database is an organized collection of structured information, or data, typically stored electronically in a computer system. A database is usually controlled by a database management system."
   ]
  },
  {
   "cell_type": "markdown",
   "id": "e4d04f24",
   "metadata": {},
   "source": [
    "#####  1) SQL databases are primarily called RDBMS or Relational Databases.\n",
    "#####  1) NoSQL databases are primarily called as Non-relational or distributed database."
   ]
  },
  {
   "cell_type": "markdown",
   "id": "4c0949f1",
   "metadata": {},
   "source": [
    "#### 2) Traditional RDBMS uses SQL syntax and queries to analyze and get the data for further insights. They are used for OLAP systems.\n",
    "#### 2) NoSQL database system consists of various kind of database technologies. These databases were developed in response to the demands presented for the development of the modern application."
   ]
  },
  {
   "cell_type": "markdown",
   "id": "6e18f5f4",
   "metadata": {},
   "source": [
    "#### 3) Structured query language (SQL).\n",
    "#### 3) No-Sql is No declarative query language."
   ]
  },
  {
   "cell_type": "markdown",
   "id": "bb755c3d",
   "metadata": {},
   "source": [
    "#### 4) SQL databases are table based databases.\n",
    "#### 4) NoSQL databases can be document based, key-value pairs, graph databases."
   ]
  },
  {
   "cell_type": "markdown",
   "id": "b5b63cac",
   "metadata": {},
   "source": [
    "#### 5) SQL databases have a predefined schema.\n",
    "#### 5) NoSQL databases use dynamic schema for unstructured data."
   ]
  },
  {
   "cell_type": "markdown",
   "id": "2c6c14c8",
   "metadata": {},
   "source": [
    "#### 6) SQL databases are vertically scalable.\n",
    "#### 6) NoSQL databases are horizontally scalable."
   ]
  },
  {
   "cell_type": "markdown",
   "id": "39b6f030",
   "metadata": {},
   "source": [
    "#### 7) SQL Example are Oracle, Postgres, and MS-SQL.\n",
    "#### 7) No-SQL Examples are MongoDB, Redis, Neo4j, Cassandra, Hbase."
   ]
  },
  {
   "cell_type": "markdown",
   "id": "1d8ab4b9",
   "metadata": {},
   "source": [
    "### Q2. What is DDL? Explain why CREATE, DROP, ALTER, and TRUNCATE are used with an example."
   ]
  },
  {
   "cell_type": "markdown",
   "id": "fa337eab",
   "metadata": {},
   "source": [
    "#### DDL is a subset of SQL commands that we use to create and modify the structure of objects in a database. We can change the database structure by adding new tables or objects with all of their attributes such as data type, table name, and so on."
   ]
  },
  {
   "cell_type": "markdown",
   "id": "6bab3dff",
   "metadata": {},
   "source": [
    "## 1) CREATE"
   ]
  },
  {
   "cell_type": "markdown",
   "id": "6e511f29",
   "metadata": {},
   "source": [
    "### The DDL command CREATE is used to create the database or any objects such as a table, index, function, view, and store procedures."
   ]
  },
  {
   "cell_type": "markdown",
   "id": "ab8d8c15",
   "metadata": {},
   "source": [
    "#### CREATE DATABASE database_name;"
   ]
  },
  {
   "cell_type": "markdown",
   "id": "dacf22a4",
   "metadata": {},
   "source": [
    "# 2) DROP"
   ]
  },
  {
   "cell_type": "markdown",
   "id": "968cfe09",
   "metadata": {},
   "source": [
    "## Drops commands remove tables and databases from RDBMS."
   ]
  },
  {
   "cell_type": "markdown",
   "id": "651d5fb9",
   "metadata": {},
   "source": [
    "### DROP TABLE ;\n",
    "### Drop table student;"
   ]
  },
  {
   "cell_type": "markdown",
   "id": "8a248ba0",
   "metadata": {},
   "source": [
    "# 3) ALTER "
   ]
  },
  {
   "cell_type": "markdown",
   "id": "aa4a9b61",
   "metadata": {},
   "source": [
    "## Alters command allows you to alter the structure of the database."
   ]
  },
  {
   "cell_type": "markdown",
   "id": "7598ee10",
   "metadata": {},
   "source": [
    "### To add a new column in the table\n",
    "#### ALTER TABLE table_name ADD column_name COLUMN-definition;  "
   ]
  },
  {
   "cell_type": "markdown",
   "id": "79267498",
   "metadata": {},
   "source": [
    "# 4) TRUNCATE"
   ]
  },
  {
   "cell_type": "markdown",
   "id": "49130aed",
   "metadata": {},
   "source": [
    "## This command used to delete all the rows from the table and free the space containing the table."
   ]
  },
  {
   "cell_type": "markdown",
   "id": "cff10a3c",
   "metadata": {},
   "source": [
    "### TRUNCATE TABLE table_name; "
   ]
  },
  {
   "cell_type": "markdown",
   "id": "483da820",
   "metadata": {},
   "source": [
    "# Q3. What is DML? Explain INSERT, UPDATE, and DELETE with an example."
   ]
  },
  {
   "cell_type": "markdown",
   "id": "6e3c9d30",
   "metadata": {},
   "source": [
    "## The DML commands in Structured Query Language change the data present in the SQL database. We can easily access, store, modify, update and delete the existing records from the database using DML commands."
   ]
  },
  {
   "cell_type": "markdown",
   "id": "d90beab8",
   "metadata": {},
   "source": [
    "### INSERT:\n",
    "### This is a statement that is a SQL query. This command is used to insert data into the row of a table."
   ]
  },
  {
   "cell_type": "markdown",
   "id": "82dd7f0b",
   "metadata": {},
   "source": [
    "#### For example: INSERT INTO students (RollNo, FIrstName, LastName) VALUES ('60', 'Tom', 'Erichsen');"
   ]
  },
  {
   "cell_type": "markdown",
   "id": "ec48925a",
   "metadata": {},
   "source": [
    "#   UPDATE:\n",
    "##  This command is used to update or modify the value of a column in the table.\n",
    "###  For example:\n",
    "#### UPDATE students    \n",
    "#### SET FirstName = 'Jhon', LastName=' Wick' \n",
    "#### WHERE StudID = 3;"
   ]
  },
  {
   "cell_type": "markdown",
   "id": "ba0ec56d",
   "metadata": {},
   "source": [
    "# DELETE:\n",
    "## This command is used to remove one or more rows from a table.\n",
    "#### DELETE FROM students WHERE FirstName = 'Jhon';"
   ]
  },
  {
   "cell_type": "markdown",
   "id": "2e6ecf46",
   "metadata": {},
   "source": [
    "# Q4. What is DQL? Explain SELECT with an example."
   ]
  },
  {
   "cell_type": "markdown",
   "id": "9b4ad198",
   "metadata": {},
   "source": [
    "#### DQL or data query language is to perform the query on the data inside the schema or object (ie table, index, view, function, etc). With the help of a DQL query, we can get the data from the database to perform actions or operations like analyzing the data."
   ]
  },
  {
   "cell_type": "markdown",
   "id": "16d70f40",
   "metadata": {},
   "source": [
    "#### Syntax:\n",
    "\n",
    "####  Select * from Table_Name;\n",
    "\n",
    "#### Example:\n",
    "#### Select * from Student;"
   ]
  },
  {
   "cell_type": "markdown",
   "id": "f0beebc6",
   "metadata": {},
   "source": [
    "# Q5. Explain Primary Key and Foreign Key."
   ]
  },
  {
   "cell_type": "markdown",
   "id": "a453e6e0",
   "metadata": {},
   "source": [
    "#### Primary Key - A primary key constrain is a column or group of columns that uniquely identifies every row in the table of the relational database management system. It cannot be a duplicate, meaning the same value should not appear more than once in the table.\n",
    "#### A table can not have more than one primary key. Primary key can be defined at the column or the table level. If you create a composite primary key, it should be defined at the table level. \n",
    "\n",
    "#### Foreign Key - Foreign key is a column that creates a relationship between two tables. The purpose of the Foreign key is to maintain data integrity and allow navigation between two different instances of an entity. It acts as a cross-reference between two tables as it references the primary key of another table. Every relationship in the database should be supported by a foreign key."
   ]
  },
  {
   "cell_type": "markdown",
   "id": "ccd5eb16",
   "metadata": {},
   "source": [
    "# Q6. Write a python code to connect MySQL to python. Explain the cursor() and execute() method."
   ]
  },
  {
   "cell_type": "code",
   "execution_count": null,
   "id": "3b638c57",
   "metadata": {},
   "outputs": [],
   "source": [
    "import mysql.connector\n",
    "mydb = mysql.connector.connect(\n",
    "  host = \"localhost\",  \n",
    "  user = \"abc\",\n",
    "  password = \"password\"  \n",
    ")\n",
    "mycursor = mydb.cursor()\n",
    "mycursor.execute(\"select * from table_name\")\n",
    "mydb.close()"
   ]
  },
  {
   "cell_type": "markdown",
   "id": "c7ca1615",
   "metadata": {},
   "source": [
    "#### A cursor is an object which helps to execute the query and fetch the records from the database. The cursor plays a very important role in executing the query\n",
    "#### The execute () method helps us to execute the query and return records according to the query. The syntax of the execute () function is:\n",
    "#### execute (query, args = None)\n",
    "#### query: This should be a string type\n",
    "#### Arguments: By default, the arguments are None because sometimes we can pass only a query like a SELECT query which fetches the records and does not require any values. So that’s the reason for the args=None by default. But if we want to pass the values in the case of the INSERT query, then the type of the arguments must be a tuple, list, or dict only."
   ]
  },
  {
   "cell_type": "markdown",
   "id": "ec2f4c0b",
   "metadata": {},
   "source": [
    "# Q7. Give the order of execution of SQL clauses in an SQL query."
   ]
  },
  {
   "cell_type": "markdown",
   "id": "961fdf9f",
   "metadata": {},
   "source": [
    "#### The order in which the clauses in queries are executed is as follows:\n",
    "\n",
    "##### 1. FROM/JOIN: The FROM and/or JOIN clauses are executed first to determine the data of interest.\n",
    "\n",
    "##### 2. WHERE: The WHERE clause is executed to filter out records that do not meet the constraints.\n",
    "\n",
    "##### 3. GROUP BY: The GROUP BY clause is executed to group the data based on the values in one or more columns.\n",
    "\n",
    "##### 4. HAVING: The HAVING clause is executed to remove the created grouped records that don’t meet the constraints.\n",
    "\n",
    "##### 5. SELECT: The SELECT clause is executed to derive all desired columns and expressions.\n",
    "\n",
    "##### 6. ORDER BY: The ORDER BY clause is executed to sort the derived values in ascending or descending order.\n",
    "\n",
    "##### 7. LIMIT/OFFSET: Finally, the LIMIT and/or OFFSET clauses are executed to keep or skip a specified number of rows."
   ]
  }
 ],
 "metadata": {
  "kernelspec": {
   "display_name": "Python 3 (ipykernel)",
   "language": "python",
   "name": "python3"
  },
  "language_info": {
   "codemirror_mode": {
    "name": "ipython",
    "version": 3
   },
   "file_extension": ".py",
   "mimetype": "text/x-python",
   "name": "python",
   "nbconvert_exporter": "python",
   "pygments_lexer": "ipython3",
   "version": "3.9.13"
  }
 },
 "nbformat": 4,
 "nbformat_minor": 5
}
