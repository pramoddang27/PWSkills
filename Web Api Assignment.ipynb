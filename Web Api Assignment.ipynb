{
 "cells": [
  {
   "cell_type": "markdown",
   "source": [
    "### Q1. What is an API? Give an example, where an API is used in real life."
   ],
   "metadata": {
    "collapsed": false
   }
  },
  {
   "cell_type": "markdown",
   "source": [
    "An Application Programming Interface, also known as an API, is a set of programming instructions that allow the software to communicate with other software.\n",
    " It Can be be used for various purposes, such as retrieving data or triggering specific actions. In addition, companies commonly use them to provide access to their services and products from external applications.\n",
    "\n",
    "They are are often used when developing mobile apps, but they can also be used to connect two different websites or integrate with third-party software.\n",
    "API is a set of instructions that allow one computer program to talk to another\n",
    "They are an essential part of the development process and can help you build better products faster. They’re not always easy to use, but it’s worth the time investment if you want your app to work seamlessly with other software.\n",
    "\n",
    "When developing mobile apps, it is needed to connect the app with other software or hardware that it will interact with. It allows two programs to communicate over a network and exchange information in real-time via requests and responses. It bridges your codebase for business logic (user authentication) and external services like Google Maps or Facebook login.\n",
    "\n",
    "###### Few examples of Application programming interface:\n",
    "AdWords from Google: This allows advertisers to create ad campaigns on their computers without going through Google AdWords’ interface or using any additional software programs.\n",
    "\n",
    "YouTube: YouTube allows developers access to video data such as title, description, duration, and uploader information without logging in to each service separately or using any additional software programs like Adobe Premiere Pro CS (which can also be used for editing live streams)."
   ],
   "metadata": {
    "collapsed": false
   },
   "outputs": [
    {
     "ename": "SyntaxError",
     "evalue": "unterminated string literal (detected at line 7) (3591160462.py, line 7)",
     "output_type": "error",
     "traceback": [
      "\u001B[1;36m  Cell \u001B[1;32mIn[1], line 7\u001B[1;36m\u001B[0m\n\u001B[1;33m    Weather data is a popular API example that we come across regularly. Rich weather snippets appear ubiquitous, appearing on all platforms such as Google Search, Apple's Weather app, and even your smart home device.\u001B[0m\n\u001B[1;37m                                                                                                                                                                         ^\u001B[0m\n\u001B[1;31mSyntaxError\u001B[0m\u001B[1;31m:\u001B[0m unterminated string literal (detected at line 7)\n"
     ]
    }
   ],
   "execution_count": 1
  },
  {
   "cell_type": "markdown",
   "source": [
    "### Q2. Give advantages and disadvantages of using API."
   ],
   "metadata": {
    "collapsed": false
   }
  },
  {
   "cell_type": "markdown",
   "source": [
    "Benefits of application programming interface\n",
    "It offers several benefits for both developers and businesses:\n",
    "\n",
    "Increased Visibility and Traffic\n",
    "First, it allows you to share your data and functionality with a broader audience, increasing traffic and visibility for your website or app.\n",
    "\n",
    "Seamless Integration\n",
    "It makes it easy to integrate with other applications and services, saving you time and money.\n",
    "\n",
    "Increased Efficiency\n",
    "It allows you to access data and functionality without navigating multiple menus or screens. This can speed up the development process and make your app or website more user-friendly.\n",
    "\n",
    "Easier Maintenance\n",
    "It reduces the amount of work needed on the back-end, making maintenance and updates more effortless and less time-consuming.\n",
    "\n",
    "Reduced Costs\n",
    "It allows developers to reuse code and functionality in multiple applications, saving time and money.\n",
    "\n",
    "Improved Customer Experience\n",
    "It makes it easier for users to access your data and functionality across multiple devices or platforms, improving the user experience and increasing customer satisfaction."
   ],
   "metadata": {
    "collapsed": false
   }
  },
  {
   "cell_type": "raw",
   "source": [
    "Disadvantages\n",
    "There are some disadvantages to using Application Programming Interfaces:\n",
    "\n",
    "Increased Complexity\n",
    "First, they can be complex and challenging to use, making them challenging for novice developers.\n",
    "\n",
    "Limited Functionality\n",
    "They may not have all the functionality you need, requiring additional development work.\n",
    "\n",
    "Dependency on Third Party Services\n",
    "If it depends on a third-party service, your application will also be unavailable.\n",
    "\n",
    "Security and Privacy Risks\n",
    "They can pose security and privacy risks if they’re not implemented correctly. Therefore, it’s essential to carefully consider these risks before using them in your application."
   ],
   "metadata": {
    "collapsed": false
   }
  },
  {
   "cell_type": "markdown",
   "source": [
    "### Q3. What is a Web API? Differentiate between API and Web API."
   ],
   "metadata": {
    "collapsed": false
   }
  },
  {
   "cell_type": "markdown",
   "source": [
    "API stands for Application Programming Interface. API is actually some kind of interface which is having a set of functions. These set of functions will allow programmers to acquire some specific features or the data of an application.\n",
    "\n",
    "Web API is an API as the name suggests, it can be accessed over the web using the HTTP protocol. It is a framework that helps you to create and develop HTTP based RESTFUL services. The web API can be developed by using different technologies such as java, ASP.NET, etc. Web API is used in either a web server or a web browser. Basically Web API is a web development concept. It is limited to Web Application’s client-side and also it does not include a web server or web browser details. If an application is to be used on a distributed system and to provide services on different devices like laptops, mobiles, etc then web API services are used. Web API is the enhanced form of the web application."
   ],
   "metadata": {
    "collapsed": false
   }
  },
  {
   "cell_type": "markdown",
   "source": [
    "#### Key Differences between API and Web Services\n",
    "1) Web service is a collection of open source protocols and standards used for exchanging data between systems or applications, whereas API is a software interface that allows two applications to interact with each other without any user involvement.\n",
    "2) Web service is used for REST, SOAP, and XML-RPC for communication, while API is used for any style of communication.\n",
    "3) Web service supports only HTTP protocol, whereas API supports HTTP/HTTPS protocol.\n",
    "4) Web service supports XML, while API supports XML and JSON.\n",
    "5) All Web services are APIs, but all APIs are not web services."
   ],
   "metadata": {
    "collapsed": false
   }
  },
  {
   "cell_type": "markdown",
   "source": [
    "#### Q4. Explain REST and SOAP Architecture. Mention shortcomings of SOAP."
   ],
   "metadata": {
    "collapsed": false
   }
  },
  {
   "cell_type": "markdown",
   "source": [
    "REST stands for REpresentational State Transfer.\n",
    "\n",
    "It means when a RESTful API is called, the server will transfer to the client a representation of the state of the requested resource.\n",
    "\n",
    "For example, when a developer calls Instagram API to fetch a specific user (the resource), the API will return the state of that user, including their name, the number of posts that user posted on Instagram so far, how many followers they have, and more.\n",
    "\n",
    "The representation of the state can be in a JSON format, and probably for most APIs this is indeed the case. It can also be in XML or HTML format.\n",
    "\n",
    "What the server does when you, the client, call one of its APIs depends on 2 things that you need to provide to the server:\n",
    "\n",
    "An identifier for the resource you are interested in. This is the URL for the resource, also known as the endpoint. In fact, URL stands for Uniform Resource Locator.\n",
    "The operation you want the server to perform on that resource, in the form of an HTTP method, or verb. The common HTTP methods are GET, POST, PUT, and DELETE.\n",
    "For example, fetching a specific Twitter user, using Twitter’s RESTful API, will require a URL that identify that user and the HTTP method GET."
   ],
   "metadata": {
    "collapsed": false
   }
  },
  {
   "cell_type": "markdown",
   "source": [
    "SOAP is an XML-formatted, highly standardized web communication protocol. Released by Microsoft a year after XML-RPC, SOAP inherited a lot from it. When REST followed, they were first used in parallel, but soon REST won the popularity contest.\n",
    "\n",
    "How SOAP works\n",
    "XML data format drags behind a lot of formality. Paired with the massive message structure, it makes SOAP the most verbose API style.\n",
    "\n",
    "A SOAP message is composed of:\n",
    "\n",
    "an envelope tag that begins and ends every message,\n",
    "a body containing the request or response\n",
    "a header if a message must determine any specifics or extra requirements, and\n",
    "a fault informing of any errors that can occur throughout the request processing.\n",
    "\n",
    "The SOAP API logic is written in Web Service Description Language (WSDL). This API description language defines the endpoints and describes all processes that can be performed. This allows different programming languages and IDEs to quickly set up communication.\n",
    "\n",
    "SOAP supports both stateful and stateless messaging. In a stateful scenario, the server stores the received information that can be really heavy. But it’s justified for operations involving multiple parties and complex transactions."
   ],
   "metadata": {
    "collapsed": false
   }
  },
  {
   "cell_type": "markdown",
   "source": [
    "#### Challenges in SOAP API\n",
    "These days, many developers shudder at the idea of having to integrate a SOAP API for several reasons.\n",
    "\n",
    "XML only. SOAP messages contain a lot of metadata and only support verbose XML structures for requests and responses.\n",
    "\n",
    "Heavyweight. Due to the large size of XML-files, SOAP services require a large bandwidth.\n",
    "\n",
    "Narrowly specialized knowledge. Building SOAP API servers requires a deep understanding of all protocols involved and their highly restricted rules.\n",
    "\n",
    "Tedious message updating. Requiring additional effort to add or remove the message properties, rigid SOAP schema slows down adoption."
   ],
   "metadata": {
    "collapsed": false
   }
  },
  {
   "cell_type": "code",
   "execution_count": null,
   "outputs": [],
   "source": [],
   "metadata": {
    "collapsed": false
   }
  }
 ],
 "metadata": {
  "kernelspec": {
   "display_name": "Python 3",
   "language": "python",
   "name": "python3"
  },
  "language_info": {
   "codemirror_mode": {
    "name": "ipython",
    "version": 2
   },
   "file_extension": ".py",
   "mimetype": "text/x-python",
   "name": "python",
   "nbconvert_exporter": "python",
   "pygments_lexer": "ipython2",
   "version": "2.7.6"
  }
 },
 "nbformat": 4,
 "nbformat_minor": 0
}
